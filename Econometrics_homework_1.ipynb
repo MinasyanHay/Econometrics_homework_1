{
 "cells": [
  {
   "cell_type": "code",
   "execution_count": 1,
   "id": "21a6ae14-46e6-4b92-9064-b3d10aace808",
   "metadata": {},
   "outputs": [],
   "source": [
    "import pandas as pd"
   ]
  },
  {
   "cell_type": "code",
   "execution_count": 4,
   "id": "ca49f858-6d6e-459a-8ab4-07aae5dbfee1",
   "metadata": {},
   "outputs": [],
   "source": [
    "dataset = pd.read_excel(\"BWGHT.xlsx\")"
   ]
  },
  {
   "cell_type": "code",
   "execution_count": 6,
   "id": "003fac4a-b03d-4171-9a82-022f79ec06cb",
   "metadata": {},
   "outputs": [],
   "source": [
    "df = pd.DataFrame(dataset)"
   ]
  },
  {
   "cell_type": "markdown",
   "id": "67f9ccb3-b4f5-48b6-948d-e1596987afe6",
   "metadata": {},
   "source": [
    "## Exercise C2 page 18"
   ]
  },
  {
   "cell_type": "markdown",
   "id": "684b3258-35e0-43e9-9d69-ba0436a128b7",
   "metadata": {},
   "source": [
    "**(i) How many women are in the sample, and how many report smoking during pregnancy?**"
   ]
  },
  {
   "cell_type": "code",
   "execution_count": 16,
   "id": "ea84e7ee-bcea-4e34-90aa-2179c47fa0e8",
   "metadata": {},
   "outputs": [
    {
     "name": "stdout",
     "output_type": "stream",
     "text": [
      "Total number of women: 665\n",
      "Number of women who smoked during pregnancy: 112\n"
     ]
    }
   ],
   "source": [
    "\n",
    "# Filter for women\n",
    "women_df = df[df['MALE'] == 0]\n",
    "\n",
    "# Count total number of women\n",
    "total_women = women_df.shape[0]\n",
    "\n",
    "# Count women who smoked during pregnancy (CIGS > 0)\n",
    "smokers = women_df[women_df['CIGS'] > 0].shape[0]\n",
    "\n",
    "print(f'Total number of women: {total_women}')\n",
    "print(f'Number of women who smoked during pregnancy: {smokers}')"
   ]
  },
  {
   "cell_type": "markdown",
   "id": "078acf93-c0c1-470f-84d5-6047258b45cd",
   "metadata": {},
   "source": [
    "**(ii) What is the average number of cigarettes smoked per day? Is the average a good\r\n",
    "measure of the “typical” woman in this case? Explain.**"
   ]
  },
  {
   "cell_type": "code",
   "execution_count": 25,
   "id": "b0f205df-c3bd-4214-833c-7fcf96e92325",
   "metadata": {},
   "outputs": [
    {
     "name": "stdout",
     "output_type": "stream",
     "text": [
      "Average number of cigarettes smoked per day by women: 2.0902255639097747\n"
     ]
    }
   ],
   "source": [
    "# Calculate the average number of cigarettes smoked per day\n",
    "average_cigs = women_df['CIGS'].mean()\n",
    "\n",
    "print(f'Average number of cigarettes smoked per day by women: {average_cigs}')"
   ]
  },
  {
   "cell_type": "markdown",
   "id": "09fe2a93-55b6-4154-a38d-abdb99694b0b",
   "metadata": {},
   "source": [
    "*Data is heavily skewed (for example, many women don't smoke or some smoke a lot), the average might not be a good measure of the \"typical\" woman.*"
   ]
  },
  {
   "cell_type": "markdown",
   "id": "43329c64-d6a5-4923-813f-86eaf18aacf3",
   "metadata": {},
   "source": [
    "**(iii) Among women who smoked during pregnancy, what is the average numberof cigarettes smoked per day? How does this compare with your answer from part (ii), and why?**"
   ]
  },
  {
   "cell_type": "code",
   "execution_count": 20,
   "id": "d6d0d506-5124-4922-a37b-f1b4021e095a",
   "metadata": {},
   "outputs": [
    {
     "name": "stdout",
     "output_type": "stream",
     "text": [
      "Average number of cigarettes smoked per day by women who smoked: 12.410714285714286\n"
     ]
    }
   ],
   "source": [
    "# Further filter women who smoked (CIGS > 0)\n",
    "smoking_women_df = women_df[women_df['CIGS'] > 0]\n",
    "\n",
    "# Calculate the average number of cigarettes smoked per day among smokers\n",
    "average_cigs_smokers = smoking_women_df['CIGS'].mean()\n",
    "\n",
    "print(f'Average number of cigarettes smoked per day by women who smoked: {average_cigs_smokers}')"
   ]
  },
  {
   "cell_type": "markdown",
   "id": "122c95ff-5ca4-4a3a-abef-9241b242a6ed",
   "metadata": {},
   "source": [
    "**(iv) Find the average of fatheduc in the sample. Why are only 1,192 observations used to compute this average?**"
   ]
  },
  {
   "cell_type": "code",
   "execution_count": 22,
   "id": "47c99758-594c-4dc7-942c-1c35e4353761",
   "metadata": {},
   "outputs": [
    {
     "name": "stdout",
     "output_type": "stream",
     "text": [
      "Average father’s education (years): 13.186241610738255\n"
     ]
    }
   ],
   "source": [
    "# Calculate the average of 'FATHEDUC', ignoring missing values (NaN)\n",
    "average_fatheduc = df['FATHEDUC'].mean()\n",
    "\n",
    "print(f'Average father’s education (years): {average_fatheduc}')"
   ]
  },
  {
   "cell_type": "markdown",
   "id": "3f23bcfc-6485-4bc3-a1a1-27fe50cae1e4",
   "metadata": {},
   "source": [
    "*The 1,192 observations likely represent the number of valid (non-missing) values in the FATHEDUC column.*"
   ]
  },
  {
   "cell_type": "markdown",
   "id": "d2be21bd-a714-41f9-805c-8bda4352f926",
   "metadata": {},
   "source": [
    "**(v) Report the average family income and its sdandard deviation in dollars**"
   ]
  },
  {
   "cell_type": "code",
   "execution_count": 23,
   "id": "e730c089-9452-48b0-9ce6-633b0aa4d242",
   "metadata": {},
   "outputs": [
    {
     "name": "stdout",
     "output_type": "stream",
     "text": [
      "Average family income: $29026.66\n",
      "Standard deviation of family income: $18739.28\n"
     ]
    }
   ],
   "source": [
    "# Convert family income to dollars (assuming FAMINC is in thousands of dollars)\n",
    "df['FAMINC_DOLLARS'] = df['FAMINC'] * 1000\n",
    "\n",
    "# Calculate the average family income\n",
    "average_faminc = df['FAMINC_DOLLARS'].mean()\n",
    "\n",
    "# Calculate the standard deviation of family income\n",
    "std_faminc = df['FAMINC_DOLLARS'].std()\n",
    "\n",
    "print(f'Average family income: ${average_faminc:.2f}')\n",
    "print(f'Standard deviation of family income: ${std_faminc:.2f}')"
   ]
  },
  {
   "cell_type": "code",
   "execution_count": null,
   "id": "f903aaa4-8b56-4c10-861b-aa8096c009ff",
   "metadata": {},
   "outputs": [],
   "source": []
  }
 ],
 "metadata": {
  "kernelspec": {
   "display_name": "Python 3 (ipykernel)",
   "language": "python",
   "name": "python3"
  },
  "language_info": {
   "codemirror_mode": {
    "name": "ipython",
    "version": 3
   },
   "file_extension": ".py",
   "mimetype": "text/x-python",
   "name": "python",
   "nbconvert_exporter": "python",
   "pygments_lexer": "ipython3",
   "version": "3.12.4"
  }
 },
 "nbformat": 4,
 "nbformat_minor": 5
}
