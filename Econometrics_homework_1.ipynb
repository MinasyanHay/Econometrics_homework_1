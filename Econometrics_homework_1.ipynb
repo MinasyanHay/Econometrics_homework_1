{
 "cells": [
  {
   "cell_type": "code",
   "execution_count": 1,
   "id": "21a6ae14-46e6-4b92-9064-b3d10aace808",
   "metadata": {},
   "outputs": [],
   "source": [
    "import pandas as pd"
   ]
  },
  {
   "cell_type": "code",
   "execution_count": 4,
   "id": "ca49f858-6d6e-459a-8ab4-07aae5dbfee1",
   "metadata": {},
   "outputs": [],
   "source": [
    "dataset_1 = pd.read_excel(\"BWGHT.xlsx\")"
   ]
  },
  {
   "cell_type": "code",
   "execution_count": 6,
   "id": "003fac4a-b03d-4171-9a82-022f79ec06cb",
   "metadata": {},
   "outputs": [],
   "source": [
    "df = pd.DataFrame(dataset_1)"
   ]
  },
  {
   "cell_type": "markdown",
   "id": "67f9ccb3-b4f5-48b6-948d-e1596987afe6",
   "metadata": {},
   "source": [
    "## Exercise C2 page 18"
   ]
  },
  {
   "cell_type": "markdown",
   "id": "684b3258-35e0-43e9-9d69-ba0436a128b7",
   "metadata": {},
   "source": [
    "**(i) How many women are in the sample, and how many report smoking during pregnancy?**"
   ]
  },
  {
   "cell_type": "code",
   "execution_count": 16,
   "id": "ea84e7ee-bcea-4e34-90aa-2179c47fa0e8",
   "metadata": {},
   "outputs": [
    {
     "name": "stdout",
     "output_type": "stream",
     "text": [
      "Total number of women: 665\n",
      "Number of women who smoked during pregnancy: 112\n"
     ]
    }
   ],
   "source": [
    "\n",
    "# Filter for women\n",
    "women_df = df[df['MALE'] == 0]\n",
    "\n",
    "# Count total number of women\n",
    "total_women = women_df.shape[0]\n",
    "\n",
    "# Count women who smoked during pregnancy (CIGS > 0)\n",
    "smokers = women_df[women_df['CIGS'] > 0].shape[0]\n",
    "\n",
    "print(f'Total number of women: {total_women}')\n",
    "print(f'Number of women who smoked during pregnancy: {smokers}')"
   ]
  },
  {
   "cell_type": "markdown",
   "id": "078acf93-c0c1-470f-84d5-6047258b45cd",
   "metadata": {},
   "source": [
    "**(ii) What is the average number of cigarettes smoked per day? Is the average a good\r\n",
    "measure of the “typical” woman in this case? Explain.**"
   ]
  },
  {
   "cell_type": "code",
   "execution_count": 25,
   "id": "b0f205df-c3bd-4214-833c-7fcf96e92325",
   "metadata": {},
   "outputs": [
    {
     "name": "stdout",
     "output_type": "stream",
     "text": [
      "Average number of cigarettes smoked per day by women: 2.0902255639097747\n"
     ]
    }
   ],
   "source": [
    "# Calculate the average number of cigarettes smoked per day\n",
    "average_cigs = women_df['CIGS'].mean()\n",
    "\n",
    "print(f'Average number of cigarettes smoked per day by women: {average_cigs}')"
   ]
  },
  {
   "cell_type": "markdown",
   "id": "09fe2a93-55b6-4154-a38d-abdb99694b0b",
   "metadata": {},
   "source": [
    "*Data is heavily skewed (for example, many women don't smoke or some smoke a lot), the average might not be a good measure of the \"typical\" woman.*"
   ]
  },
  {
   "cell_type": "markdown",
   "id": "43329c64-d6a5-4923-813f-86eaf18aacf3",
   "metadata": {},
   "source": [
    "**(iii) Among women who smoked during pregnancy, what is the average numberof cigarettes smoked per day? How does this compare with your answer from part (ii), and why?**"
   ]
  },
  {
   "cell_type": "code",
   "execution_count": 20,
   "id": "d6d0d506-5124-4922-a37b-f1b4021e095a",
   "metadata": {},
   "outputs": [
    {
     "name": "stdout",
     "output_type": "stream",
     "text": [
      "Average number of cigarettes smoked per day by women who smoked: 12.410714285714286\n"
     ]
    }
   ],
   "source": [
    "# Further filter women who smoked (CIGS > 0)\n",
    "smoking_women_df = women_df[women_df['CIGS'] > 0]\n",
    "\n",
    "# Calculate the average number of cigarettes smoked per day among smokers\n",
    "average_cigs_smokers = smoking_women_df['CIGS'].mean()\n",
    "\n",
    "print(f'Average number of cigarettes smoked per day by women who smoked: {average_cigs_smokers}')"
   ]
  },
  {
   "cell_type": "markdown",
   "id": "122c95ff-5ca4-4a3a-abef-9241b242a6ed",
   "metadata": {},
   "source": [
    "**(iv) Find the average of fatheduc in the sample. Why are only 1,192 observations used to compute this average?**"
   ]
  },
  {
   "cell_type": "code",
   "execution_count": 22,
   "id": "47c99758-594c-4dc7-942c-1c35e4353761",
   "metadata": {},
   "outputs": [
    {
     "name": "stdout",
     "output_type": "stream",
     "text": [
      "Average father’s education (years): 13.186241610738255\n"
     ]
    }
   ],
   "source": [
    "# Calculate the average of 'FATHEDUC', ignoring missing values (NaN)\n",
    "average_fatheduc = df['FATHEDUC'].mean()\n",
    "\n",
    "print(f'Average father’s education (years): {average_fatheduc}')"
   ]
  },
  {
   "cell_type": "markdown",
   "id": "3f23bcfc-6485-4bc3-a1a1-27fe50cae1e4",
   "metadata": {},
   "source": [
    "*The 1,192 observations likely represent the number of valid (non-missing) values in the FATHEDUC column.*"
   ]
  },
  {
   "cell_type": "markdown",
   "id": "d2be21bd-a714-41f9-805c-8bda4352f926",
   "metadata": {},
   "source": [
    "**(v) Report the average family income and its sdandard deviation in dollars**"
   ]
  },
  {
   "cell_type": "code",
   "execution_count": 23,
   "id": "e730c089-9452-48b0-9ce6-633b0aa4d242",
   "metadata": {},
   "outputs": [
    {
     "name": "stdout",
     "output_type": "stream",
     "text": [
      "Average family income: $29026.66\n",
      "Standard deviation of family income: $18739.28\n"
     ]
    }
   ],
   "source": [
    "# Convert family income to dollars (assuming FAMINC is in thousands of dollars)\n",
    "df['FAMINC_DOLLARS'] = df['FAMINC'] * 1000\n",
    "\n",
    "# Calculate the average family income\n",
    "average_faminc = df['FAMINC_DOLLARS'].mean()\n",
    "\n",
    "# Calculate the standard deviation of family income\n",
    "std_faminc = df['FAMINC_DOLLARS'].std()\n",
    "\n",
    "print(f'Average family income: ${average_faminc:.2f}')\n",
    "print(f'Standard deviation of family income: ${std_faminc:.2f}')"
   ]
  },
  {
   "cell_type": "markdown",
   "id": "8aacfb40-a288-4d77-8228-b6cb08adf317",
   "metadata": {},
   "source": [
    "## Exercise C4 page 64"
   ]
  },
  {
   "cell_type": "markdown",
   "id": "5bcfad16-e5a7-4a4a-90fc-d0d930346e93",
   "metadata": {},
   "source": [
    "**(i) Find the average salary and average IQ in the sample. What is the sample standard\r\n",
    "deviation of IQ?**"
   ]
  },
  {
   "cell_type": "code",
   "execution_count": 5,
   "id": "f903aaa4-8b56-4c10-861b-aa8096c009ff",
   "metadata": {},
   "outputs": [],
   "source": [
    "import pandas as pd\n",
    "dataset_2 = pd.read_excel(\"WAGE2.xlsx\")"
   ]
  },
  {
   "cell_type": "code",
   "execution_count": 6,
   "id": "0cb74ccc-c131-4c56-8de8-6f79a1196998",
   "metadata": {},
   "outputs": [],
   "source": [
    "df = pd.DataFrame(dataset_2)"
   ]
  },
  {
   "cell_type": "code",
   "execution_count": 19,
   "id": "a520cf75-5039-4bb6-a729-c7918369710d",
   "metadata": {},
   "outputs": [
    {
     "name": "stdout",
     "output_type": "stream",
     "text": [
      "The average of IQ is:101.28235294117647\n",
      "The average of salary is:957.9454545454546\n",
      "The sample standard deviation of IQ is: 15.0526363702651\n"
     ]
    }
   ],
   "source": [
    "# Calculate the average of IQ\n",
    "average_IQ = df['IQ'].mean()\n",
    "# Calculate the average of salary\n",
    "average_salary = df['WAGE'].mean()\n",
    "#Calculate standard deviation of IQ\n",
    "std_dev_IQ = df['IQ'].std()\n",
    "\n",
    "\n",
    "print(f'The average of IQ is:{average_IQ}')\n",
    "print(f'The average of salary is:{average_salary}')\n",
    "print(f\"The sample standard deviation of IQ is: {std_dev_IQ}\")"
   ]
  },
  {
   "cell_type": "markdown",
   "id": "8f410a14-f381-4853-83b8-49446fa0911b",
   "metadata": {},
   "source": [
    "**(ii) Estimate a simple regression model where a one-point increase in IQ changes\n",
    "wage by a constant dollar amount. Use this model to find the predicted\n",
    "increase in wage for an increase in IQ of 15 points. Does IQ explain most of the variation in\n",
    "wage?**"
   ]
  },
  {
   "cell_type": "code",
   "execution_count": 20,
   "id": "751bc8fc-77c2-40a0-9809-6b9e8164b256",
   "metadata": {},
   "outputs": [
    {
     "name": "stdout",
     "output_type": "stream",
     "text": [
      "                            OLS Regression Results                            \n",
      "==============================================================================\n",
      "Dep. Variable:                   WAGE   R-squared:                       0.096\n",
      "Model:                            OLS   Adj. R-squared:                  0.095\n",
      "Method:                 Least Squares   F-statistic:                     98.55\n",
      "Date:                Fri, 20 Sep 2024   Prob (F-statistic):           3.79e-22\n",
      "Time:                        13:16:03   Log-Likelihood:                -6891.4\n",
      "No. Observations:                 935   AIC:                         1.379e+04\n",
      "Df Residuals:                     933   BIC:                         1.380e+04\n",
      "Df Model:                           1                                         \n",
      "Covariance Type:            nonrobust                                         \n",
      "==============================================================================\n",
      "                 coef    std err          t      P>|t|      [0.025      0.975]\n",
      "------------------------------------------------------------------------------\n",
      "const        116.9916     85.642      1.366      0.172     -51.081     285.064\n",
      "IQ             8.3031      0.836      9.927      0.000       6.662       9.944\n",
      "==============================================================================\n",
      "Omnibus:                      208.281   Durbin-Watson:                   1.802\n",
      "Prob(Omnibus):                  0.000   Jarque-Bera (JB):              532.184\n",
      "Skew:                           1.157   Prob(JB):                    2.74e-116\n",
      "Kurtosis:                       5.882   Cond. No.                         697.\n",
      "==============================================================================\n",
      "\n",
      "Notes:\n",
      "[1] Standard Errors assume that the covariance matrix of the errors is correctly specified.\n"
     ]
    }
   ],
   "source": [
    "import statsmodels.api as sm\n",
    "\n",
    "# Assuming df['WAGE'] contains wage data and df['IQ'] contains IQ data\n",
    "X = df['IQ']\n",
    "y = df['WAGE']\n",
    "\n",
    "# Add a constant (intercept) to the model\n",
    "X = sm.add_constant(X)\n",
    "\n",
    "# Fit the regression model\n",
    "model = sm.OLS(y, X).fit()\n",
    "\n",
    "# Display the regression summary\n",
    "print(model.summary())"
   ]
  },
  {
   "cell_type": "code",
   "execution_count": 21,
   "id": "10388093-a5eb-4019-af9a-ddeee30d2398",
   "metadata": {},
   "outputs": [
    {
     "name": "stdout",
     "output_type": "stream",
     "text": [
      "The predicted increase in wage for a 15-point increase in IQ is: 124.5459646235166\n"
     ]
    }
   ],
   "source": [
    "iq_increase = 15\n",
    "wage_increase = model.params['IQ'] * iq_increase\n",
    "print(f\"The predicted increase in wage for a 15-point increase in IQ is: {wage_increase}\")\n"
   ]
  },
  {
   "cell_type": "markdown",
   "id": "8609f997-0963-469d-aa6a-a0fe40de5b3e",
   "metadata": {},
   "source": [
    "**(iii)Now, estimate a model where each one-point increase in IQ has the same percentage\n",
    "effect on wage. If IQ increases by 15 points, what is the approximate percentage\n",
    "increase in predicted wage?**"
   ]
  },
  {
   "cell_type": "code",
   "execution_count": 22,
   "id": "e5d781b5-b86d-486e-94b1-d25015d97d96",
   "metadata": {},
   "outputs": [
    {
     "name": "stdout",
     "output_type": "stream",
     "text": [
      "                            OLS Regression Results                            \n",
      "==============================================================================\n",
      "Dep. Variable:                   WAGE   R-squared:                       0.099\n",
      "Model:                            OLS   Adj. R-squared:                  0.098\n",
      "Method:                 Least Squares   F-statistic:                     102.6\n",
      "Date:                Fri, 20 Sep 2024   Prob (F-statistic):           5.93e-23\n",
      "Time:                        13:19:37   Log-Likelihood:                -468.85\n",
      "No. Observations:                 935   AIC:                             941.7\n",
      "Df Residuals:                     933   BIC:                             951.4\n",
      "Df Model:                           1                                         \n",
      "Covariance Type:            nonrobust                                         \n",
      "==============================================================================\n",
      "                 coef    std err          t      P>|t|      [0.025      0.975]\n",
      "------------------------------------------------------------------------------\n",
      "const          5.8870      0.089     66.131      0.000       5.712       6.062\n",
      "IQ             0.0088      0.001     10.130      0.000       0.007       0.011\n",
      "==============================================================================\n",
      "Omnibus:                       32.293   Durbin-Watson:                   1.793\n",
      "Prob(Omnibus):                  0.000   Jarque-Bera (JB):               45.621\n",
      "Skew:                          -0.329   Prob(JB):                     1.24e-10\n",
      "Kurtosis:                       3.859   Cond. No.                         697.\n",
      "==============================================================================\n",
      "\n",
      "Notes:\n",
      "[1] Standard Errors assume that the covariance matrix of the errors is correctly specified.\n"
     ]
    }
   ],
   "source": [
    "import numpy as np\n",
    "import statsmodels.api as sm\n",
    "\n",
    "# Assuming df['WAGE'] contains wage data and df['IQ'] contains IQ data\n",
    "X = df['IQ']\n",
    "y = np.log(df['WAGE'])  # Take the natural log of wage\n",
    "\n",
    "# Add a constant (intercept) to the model\n",
    "X = sm.add_constant(X)\n",
    "\n",
    "# Fit the regression model\n",
    "model_log = sm.OLS(y, X).fit()\n",
    "\n",
    "# Display the regression summary\n",
    "print(model_log.summary())\n"
   ]
  },
  {
   "cell_type": "markdown",
   "id": "0d23cd81-c3b4-4990-b01f-b711e6c39e06",
   "metadata": {},
   "source": [
    "## Exercise C8 page 65"
   ]
  },
  {
   "cell_type": "markdown",
   "id": "fc1806f9-8c41-490d-8011-4bac3299df6f",
   "metadata": {},
   "source": [
    "**(i) Start by generating 500 observations xi – the explanatory variable – from the uniform distribution with range [0,10]. (Most statistical packages have a command for the Uniform[0,1] distribution; just multiply those observations by 10.) What\n",
    "are the sample mean and sample standard deviation of the xi?**"
   ]
  },
  {
   "cell_type": "code",
   "execution_count": 23,
   "id": "90fee7ce-a1fb-415b-a47f-f9985d8f18a3",
   "metadata": {},
   "outputs": [
    {
     "name": "stdout",
     "output_type": "stream",
     "text": [
      "Sample mean of x_i: 4.96597641464755\n",
      "Sample standard deviation of x_i: 2.917564210753309\n"
     ]
    }
   ],
   "source": [
    "import numpy as np\n",
    "\n",
    "# Set seed for reproducibility (optional)\n",
    "np.random.seed(0)\n",
    "\n",
    "# Generate 500 observations from a Uniform[0, 10] distribution\n",
    "x_i = np.random.uniform(0, 10, 500)\n",
    "\n",
    "# Calculate the sample mean and sample standard deviation\n",
    "sample_mean = np.mean(x_i)\n",
    "sample_std_dev = np.std(x_i, ddof=1)  # ddof=1 for sample std deviation\n",
    "\n",
    "print(f\"Sample mean of x_i: {sample_mean}\")\n",
    "print(f\"Sample standard deviation of x_i: {sample_std_dev}\")\n"
   ]
  },
  {
   "cell_type": "markdown",
   "id": "11701555-662e-4c1f-997f-6d55190da6de",
   "metadata": {},
   "source": [
    "**(ii)Randomly generate 500 errors, ui, from the Normal[0,36] distribution. (If you generate a Normal[0,1], as is commonly available, simply multiply the outcomes\n",
    "by six.) Is the sample average of the ui exactly zero? Why or why not? What is the sample standard deviation of the ui?**"
   ]
  },
  {
   "cell_type": "code",
   "execution_count": 24,
   "id": "844597b3-948c-4180-abb9-1e953987bd27",
   "metadata": {},
   "outputs": [
    {
     "name": "stdout",
     "output_type": "stream",
     "text": [
      "Sample mean of u_i: -0.6007038230278583\n",
      "Sample standard deviation of u_i: 5.9118712628712355\n"
     ]
    }
   ],
   "source": [
    "# Generate 500 errors from Normal[0, 36] by multiplying Normal[0, 1] by 6\n",
    "u_i = np.random.normal(0, 1, 500) * 6\n",
    "\n",
    "# Calculate the sample mean and sample standard deviation\n",
    "sample_mean_ui = np.mean(u_i)\n",
    "sample_std_dev_ui = np.std(u_i, ddof=1)  # ddof=1 for sample std deviation\n",
    "\n",
    "print(f\"Sample mean of u_i: {sample_mean_ui}\")\n",
    "print(f\"Sample standard deviation of u_i: {sample_std_dev_ui}\")\n"
   ]
  },
  {
   "cell_type": "markdown",
   "id": "224066f0-4d79-49f9-8b31-38c6b6de153d",
   "metadata": {},
   "source": [
    "*The sample mean of the randomly generated errors \n",
    "𝑢_𝑖 will not be exactly zero because the errors are randomly drawn from a distribution. Even though the true mean of the Normal distribution is 0, the sample mean will vary due to sampling variation. With larger sample sizes, the sample mean will get closer to 0.*"
   ]
  },
  {
   "cell_type": "markdown",
   "id": "6e464496-d239-42cc-8990-8a1c35156056",
   "metadata": {},
   "source": [
    "**(iii)Now generate the yi \n",
    "that is, the population intercept is one and the population slope is two. Use the\n",
    "data to run the regression of yi on xi. What are your estimates of the intercept and\n",
    "slope? Are they equal to the population values in the above equation? Explain.**"
   ]
  },
  {
   "cell_type": "code",
   "execution_count": 25,
   "id": "7e98f746-f8ba-41b5-a070-c20b5744bed3",
   "metadata": {},
   "outputs": [
    {
     "name": "stdout",
     "output_type": "stream",
     "text": [
      "                            OLS Regression Results                            \n",
      "==============================================================================\n",
      "Dep. Variable:                      y   R-squared:                       0.498\n",
      "Model:                            OLS   Adj. R-squared:                  0.497\n",
      "Method:                 Least Squares   F-statistic:                     493.7\n",
      "Date:                Fri, 20 Sep 2024   Prob (F-statistic):           1.66e-76\n",
      "Time:                        13:36:48   Log-Likelihood:                -1597.4\n",
      "No. Observations:                 500   AIC:                             3199.\n",
      "Df Residuals:                     498   BIC:                             3207.\n",
      "Df Model:                           1                                         \n",
      "Covariance Type:            nonrobust                                         \n",
      "==============================================================================\n",
      "                 coef    std err          t      P>|t|      [0.025      0.975]\n",
      "------------------------------------------------------------------------------\n",
      "const          0.3130      0.523      0.599      0.550      -0.714       1.340\n",
      "x1             2.0174      0.091     22.218      0.000       1.839       2.196\n",
      "==============================================================================\n",
      "Omnibus:                        0.775   Durbin-Watson:                   2.014\n",
      "Prob(Omnibus):                  0.679   Jarque-Bera (JB):                0.674\n",
      "Skew:                          -0.087   Prob(JB):                        0.714\n",
      "Kurtosis:                       3.042   Cond. No.                         11.6\n",
      "==============================================================================\n",
      "\n",
      "Notes:\n",
      "[1] Standard Errors assume that the covariance matrix of the errors is correctly specified.\n"
     ]
    }
   ],
   "source": [
    "# Generate y_i using the population equation y_i = 1 + 2 * x_i + u_i\n",
    "y_i = 1 + 2 * x_i + u_i\n",
    "# Run the regression of y_i on x_i\n",
    "X = sm.add_constant(x_i)  # Add intercept (constant)\n",
    "model = sm.OLS(y_i, X).fit()\n",
    "\n",
    "# Print the regression summary\n",
    "print(model.summary())\n"
   ]
  },
  {
   "cell_type": "code",
   "execution_count": null,
   "id": "9faa0eb1-6c57-44fc-8643-13fec1bd30e4",
   "metadata": {},
   "outputs": [],
   "source": []
  }
 ],
 "metadata": {
  "kernelspec": {
   "display_name": "Python 3 (ipykernel)",
   "language": "python",
   "name": "python3"
  },
  "language_info": {
   "codemirror_mode": {
    "name": "ipython",
    "version": 3
   },
   "file_extension": ".py",
   "mimetype": "text/x-python",
   "name": "python",
   "nbconvert_exporter": "python",
   "pygments_lexer": "ipython3",
   "version": "3.12.4"
  }
 },
 "nbformat": 4,
 "nbformat_minor": 5
}
